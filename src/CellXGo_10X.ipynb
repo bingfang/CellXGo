{
 "cells": [
  {
   "cell_type": "markdown",
   "id": "b76bea40-5664-4974-b120-8e59c557f7ef",
   "metadata": {},
   "source": [
    "# CellXGo_10X\n",
    "\n",
    "## Setup environment\n",
    "Anadata requires numpy 2. Therefore a environment was build for this project namely anadata\n",
    "\n",
    "conda activate anadata\n",
    "\n",
    "jupyter notebook"
   ]
  },
  {
   "cell_type": "code",
   "execution_count": 2,
   "id": "de489909",
   "metadata": {},
   "outputs": [],
   "source": [
    "import numpy as np\n",
    "import pandas as pd\n",
    "import anndata as ad\n",
    "import matplotlib.pyplot as plt\n",
    "from scipy.sparse import csr_matrix\n",
    "from itertools import compress"
   ]
  },
  {
   "cell_type": "markdown",
   "id": "ab20c4b6-f81d-4cf0-968a-1165ac28fd72",
   "metadata": {},
   "source": [
    "## Load data\n",
    "Change to dataframe with gene name as column name, and cell name as row name"
   ]
  },
  {
   "cell_type": "code",
   "execution_count": 4,
   "id": "b2900b62",
   "metadata": {},
   "outputs": [
    {
     "name": "stdout",
     "output_type": "stream",
     "text": [
      "                                                                      0\n",
      "AAAGAACGTCCGAAGA-1-0    (0, 3)\\t0.009999999776482582\\n  (0, 7)\\t0.12...\n",
      "AAAGTGACACAAATGA-1-0    (0, 3)\\t0.009999999776482582\\n  (0, 7)\\t0.18...\n",
      "AACAACCGTGTAACGG-1-0    (0, 3)\\t0.019999999552965164\\n  (0, 7)\\t0.33...\n",
      "AATGGCTCAGAGGACT-1-0    (0, 3)\\t0.019999999552965164\\n  (0, 7)\\t0.23...\n",
      "ACATCCCGTCTCGGAC-1-0    (0, 3)\\t0.009999999776482582\\n  (0, 7)\\t0.27...\n"
     ]
    }
   ],
   "source": [
    "adata_new = ad.read_h5ad(\"../Data/a5fcffc0-71c0-4363-85a3-6f6928457387.h5ad\")  # this is a 10X snRNAseq data\n",
    "#print(adata_new.var_names)\n",
    "#print(adata_new.obs_names)\n",
    "df_cellXGene=pd.DataFrame(adata_new.X, index = adata_new.obs.index)\n",
    "#df_cellXGene.columns = adata_new.var_names\n",
    "print(df_cellXGene.head())\n"
   ]
  },
  {
   "cell_type": "markdown",
   "id": "6c030da9-c55e-4ef6-9672-d33b8ae72454",
   "metadata": {},
   "source": [
    "## Sort genes into high, medium, and low expression catogories"
   ]
  },
  {
   "cell_type": "code",
   "execution_count": 21,
   "id": "3743bd39-ecaf-4d8b-812b-83017f79b4fd",
   "metadata": {},
   "outputs": [
    {
     "name": "stdout",
     "output_type": "stream",
     "text": [
      "Series([], dtype: float64)\n",
      "Series([], dtype: float64)\n",
      "Series([], dtype: float64)\n"
     ]
    },
    {
     "name": "stderr",
     "output_type": "stream",
     "text": [
      "/var/folders/rb/0cxxs_352dv50wvkzghy7pj4000dkm/T/ipykernel_12321/3675320243.py:1: FutureWarning: The default value of numeric_only in DataFrame.mean is deprecated. In a future version, it will default to False. In addition, specifying 'numeric_only=None' is deprecated. Select only valid columns or specify the value of numeric_only to silence this warning.\n",
      "  gene_mean=df_cellXGene.mean()\n"
     ]
    },
    {
     "data": {
      "image/png": "[encoded data removed]",
      "text/plain": [
       "<Figure size 640x480 with 1 Axes>"
      ]
     },
     "metadata": {},
     "output_type": "display_data"
    }
   ],
   "source": [
    "gene_mean=df_cellXGene.mean()\n",
    "print(gene_mean)\n",
    "gene_sort=gene_mean.sort_values(ascending=False)\n",
    "gene_rank=gene_mean.rank(ascending=False)\n",
    "gene_sort.hist(bins=100)\n",
    "print(gene_sort)\n",
    "print(gene_sort.head())  # highest expression genes\n",
    "#print(gene_sort.tail())  # No expression genes\n",
    "\n",
    "#print(gene_sort.head(4000)) # 75 precentile expression\n",
    "#print(gene_sort.head(8000)) # 50 precentile expression\n",
    "#print(gene_sort.head(12000)) # 25% percentile expression"
   ]
  },
  {
   "cell_type": "code",
   "execution_count": 7,
   "id": "15ca9f03-949b-41bc-9ac0-8c310a09a514",
   "metadata": {},
   "outputs": [
    {
     "ename": "KeyError",
     "evalue": "\"None of [Index(['MALAT1', 'SNHG14', 'NRXN1'], dtype='object')] are in the [columns]\"",
     "output_type": "error",
     "traceback": [
      "\u001b[0;31m---------------------------------------------------------------------------\u001b[0m",
      "\u001b[0;31mKeyError\u001b[0m                                  Traceback (most recent call last)",
      "Cell \u001b[0;32mIn[7], line 4\u001b[0m\n\u001b[1;32m      1\u001b[0m \u001b[38;5;66;03m# histogram of the expression levels at the highest, 75% percetile, 50% percentile\u001b[39;00m\n\u001b[0;32m----> 4\u001b[0m \u001b[43mdf_cellXGene\u001b[49m\u001b[38;5;241;43m.\u001b[39;49m\u001b[43mhist\u001b[49m\u001b[43m(\u001b[49m\u001b[43mcolumn\u001b[49m\u001b[38;5;241;43m=\u001b[39;49m\u001b[43m[\u001b[49m\u001b[38;5;124;43m\"\u001b[39;49m\u001b[38;5;124;43mMALAT1\u001b[39;49m\u001b[38;5;124;43m\"\u001b[39;49m\u001b[43m,\u001b[49m\u001b[38;5;124;43m\"\u001b[39;49m\u001b[38;5;124;43mSNHG14\u001b[39;49m\u001b[38;5;124;43m\"\u001b[39;49m\u001b[43m,\u001b[49m\u001b[38;5;124;43m\"\u001b[39;49m\u001b[38;5;124;43mNRXN1\u001b[39;49m\u001b[38;5;124;43m\"\u001b[39;49m\u001b[43m]\u001b[49m\u001b[43m,\u001b[49m\u001b[43m \u001b[49m\u001b[43mbins\u001b[49m\u001b[38;5;241;43m=\u001b[39;49m\u001b[38;5;241;43m100\u001b[39;49m\u001b[43m,\u001b[49m\u001b[43mlayout\u001b[49m\u001b[38;5;241;43m=\u001b[39;49m\u001b[43m(\u001b[49m\u001b[38;5;241;43m1\u001b[39;49m\u001b[43m,\u001b[49m\u001b[43m \u001b[49m\u001b[38;5;241;43m3\u001b[39;49m\u001b[43m)\u001b[49m\u001b[43m,\u001b[49m\u001b[43m \u001b[49m\u001b[43mfigsize\u001b[49m\u001b[38;5;241;43m=\u001b[39;49m\u001b[43m(\u001b[49m\u001b[38;5;241;43m15\u001b[39;49m\u001b[43m,\u001b[49m\u001b[43m \u001b[49m\u001b[38;5;241;43m5\u001b[39;49m\u001b[43m)\u001b[49m\u001b[43m)\u001b[49m\n\u001b[1;32m      5\u001b[0m df_cellXGene\u001b[38;5;241m.\u001b[39mhist(column\u001b[38;5;241m=\u001b[39m[\u001b[38;5;124m\"\u001b[39m\u001b[38;5;124mRPL26\u001b[39m\u001b[38;5;124m\"\u001b[39m,\u001b[38;5;124m\"\u001b[39m\u001b[38;5;124mZBTB43\u001b[39m\u001b[38;5;124m\"\u001b[39m,\u001b[38;5;124m\"\u001b[39m\u001b[38;5;124mFGGY\u001b[39m\u001b[38;5;124m\"\u001b[39m], bins\u001b[38;5;241m=\u001b[39m\u001b[38;5;241m100\u001b[39m,layout\u001b[38;5;241m=\u001b[39m(\u001b[38;5;241m1\u001b[39m, \u001b[38;5;241m3\u001b[39m), figsize\u001b[38;5;241m=\u001b[39m(\u001b[38;5;241m15\u001b[39m, \u001b[38;5;241m5\u001b[39m))\n\u001b[1;32m      6\u001b[0m df_cellXGene\u001b[38;5;241m.\u001b[39mhist(column\u001b[38;5;241m=\u001b[39m[\u001b[38;5;124m\"\u001b[39m\u001b[38;5;124mSYT9\u001b[39m\u001b[38;5;124m\"\u001b[39m,\u001b[38;5;124m\"\u001b[39m\u001b[38;5;124mSPTBN2\u001b[39m\u001b[38;5;124m\"\u001b[39m,\u001b[38;5;124m\"\u001b[39m\u001b[38;5;124mCYC1\u001b[39m\u001b[38;5;124m\"\u001b[39m], bins\u001b[38;5;241m=\u001b[39m\u001b[38;5;241m100\u001b[39m,layout\u001b[38;5;241m=\u001b[39m(\u001b[38;5;241m1\u001b[39m, \u001b[38;5;241m3\u001b[39m), figsize\u001b[38;5;241m=\u001b[39m(\u001b[38;5;241m15\u001b[39m, \u001b[38;5;241m5\u001b[39m))\n",
      "File \u001b[0;32m/opt/anaconda3/envs/anadata/lib/python3.9/site-packages/pandas/plotting/_core.py:231\u001b[0m, in \u001b[0;36mhist_frame\u001b[0;34m(data, column, by, grid, xlabelsize, xrot, ylabelsize, yrot, ax, sharex, sharey, figsize, layout, bins, backend, legend, **kwargs)\u001b[0m\n\u001b[1;32m    140\u001b[0m \u001b[38;5;250m\u001b[39m\u001b[38;5;124;03m\"\"\"\u001b[39;00m\n\u001b[1;32m    141\u001b[0m \u001b[38;5;124;03mMake a histogram of the DataFrame's columns.\u001b[39;00m\n\u001b[1;32m    142\u001b[0m \n\u001b[0;32m   (...)\u001b[0m\n\u001b[1;32m    228\u001b[0m \u001b[38;5;124;03m    >>> hist = df.hist(bins=3)\u001b[39;00m\n\u001b[1;32m    229\u001b[0m \u001b[38;5;124;03m\"\"\"\u001b[39;00m\n\u001b[1;32m    230\u001b[0m plot_backend \u001b[38;5;241m=\u001b[39m _get_plot_backend(backend)\n\u001b[0;32m--> 231\u001b[0m \u001b[38;5;28;01mreturn\u001b[39;00m \u001b[43mplot_backend\u001b[49m\u001b[38;5;241;43m.\u001b[39;49m\u001b[43mhist_frame\u001b[49m\u001b[43m(\u001b[49m\n\u001b[1;32m    232\u001b[0m \u001b[43m    \u001b[49m\u001b[43mdata\u001b[49m\u001b[43m,\u001b[49m\n\u001b[1;32m    233\u001b[0m \u001b[43m    \u001b[49m\u001b[43mcolumn\u001b[49m\u001b[38;5;241;43m=\u001b[39;49m\u001b[43mcolumn\u001b[49m\u001b[43m,\u001b[49m\n\u001b[1;32m    234\u001b[0m \u001b[43m    \u001b[49m\u001b[43mby\u001b[49m\u001b[38;5;241;43m=\u001b[39;49m\u001b[43mby\u001b[49m\u001b[43m,\u001b[49m\n\u001b[1;32m    235\u001b[0m \u001b[43m    \u001b[49m\u001b[43mgrid\u001b[49m\u001b[38;5;241;43m=\u001b[39;49m\u001b[43mgrid\u001b[49m\u001b[43m,\u001b[49m\n\u001b[1;32m    236\u001b[0m \u001b[43m    \u001b[49m\u001b[43mxlabelsize\u001b[49m\u001b[38;5;241;43m=\u001b[39;49m\u001b[43mxlabelsize\u001b[49m\u001b[43m,\u001b[49m\n\u001b[1;32m    237\u001b[0m \u001b[43m    \u001b[49m\u001b[43mxrot\u001b[49m\u001b[38;5;241;43m=\u001b[39;49m\u001b[43mxrot\u001b[49m\u001b[43m,\u001b[49m\n\u001b[1;32m    238\u001b[0m \u001b[43m    \u001b[49m\u001b[43mylabelsize\u001b[49m\u001b[38;5;241;43m=\u001b[39;49m\u001b[43mylabelsize\u001b[49m\u001b[43m,\u001b[49m\n\u001b[1;32m    239\u001b[0m \u001b[43m    \u001b[49m\u001b[43myrot\u001b[49m\u001b[38;5;241;43m=\u001b[39;49m\u001b[43myrot\u001b[49m\u001b[43m,\u001b[49m\n\u001b[1;32m    240\u001b[0m \u001b[43m    \u001b[49m\u001b[43max\u001b[49m\u001b[38;5;241;43m=\u001b[39;49m\u001b[43max\u001b[49m\u001b[43m,\u001b[49m\n\u001b[1;32m    241\u001b[0m \u001b[43m    \u001b[49m\u001b[43msharex\u001b[49m\u001b[38;5;241;43m=\u001b[39;49m\u001b[43msharex\u001b[49m\u001b[43m,\u001b[49m\n\u001b[1;32m    242\u001b[0m \u001b[43m    \u001b[49m\u001b[43msharey\u001b[49m\u001b[38;5;241;43m=\u001b[39;49m\u001b[43msharey\u001b[49m\u001b[43m,\u001b[49m\n\u001b[1;32m    243\u001b[0m \u001b[43m    \u001b[49m\u001b[43mfigsize\u001b[49m\u001b[38;5;241;43m=\u001b[39;49m\u001b[43mfigsize\u001b[49m\u001b[43m,\u001b[49m\n\u001b[1;32m    244\u001b[0m \u001b[43m    \u001b[49m\u001b[43mlayout\u001b[49m\u001b[38;5;241;43m=\u001b[39;49m\u001b[43mlayout\u001b[49m\u001b[43m,\u001b[49m\n\u001b[1;32m    245\u001b[0m \u001b[43m    \u001b[49m\u001b[43mlegend\u001b[49m\u001b[38;5;241;43m=\u001b[39;49m\u001b[43mlegend\u001b[49m\u001b[43m,\u001b[49m\n\u001b[1;32m    246\u001b[0m \u001b[43m    \u001b[49m\u001b[43mbins\u001b[49m\u001b[38;5;241;43m=\u001b[39;49m\u001b[43mbins\u001b[49m\u001b[43m,\u001b[49m\n\u001b[1;32m    247\u001b[0m \u001b[43m    \u001b[49m\u001b[38;5;241;43m*\u001b[39;49m\u001b[38;5;241;43m*\u001b[39;49m\u001b[43mkwargs\u001b[49m\u001b[43m,\u001b[49m\n\u001b[1;32m    248\u001b[0m \u001b[43m\u001b[49m\u001b[43m)\u001b[49m\n",
      "File \u001b[0;32m/opt/anaconda3/envs/anadata/lib/python3.9/site-packages/pandas/plotting/_matplotlib/hist.py:491\u001b[0m, in \u001b[0;36mhist_frame\u001b[0;34m(data, column, by, grid, xlabelsize, xrot, ylabelsize, yrot, ax, sharex, sharey, figsize, layout, bins, legend, **kwds)\u001b[0m\n\u001b[1;32m    489\u001b[0m     \u001b[38;5;28;01mif\u001b[39;00m \u001b[38;5;129;01mnot\u001b[39;00m \u001b[38;5;28misinstance\u001b[39m(column, (\u001b[38;5;28mlist\u001b[39m, np\u001b[38;5;241m.\u001b[39mndarray, ABCIndex)):\n\u001b[1;32m    490\u001b[0m         column \u001b[38;5;241m=\u001b[39m [column]\n\u001b[0;32m--> 491\u001b[0m     data \u001b[38;5;241m=\u001b[39m \u001b[43mdata\u001b[49m\u001b[43m[\u001b[49m\u001b[43mcolumn\u001b[49m\u001b[43m]\u001b[49m\n\u001b[1;32m    492\u001b[0m \u001b[38;5;66;03m# GH32590\u001b[39;00m\n\u001b[1;32m    493\u001b[0m data \u001b[38;5;241m=\u001b[39m data\u001b[38;5;241m.\u001b[39mselect_dtypes(\n\u001b[1;32m    494\u001b[0m     include\u001b[38;5;241m=\u001b[39m(np\u001b[38;5;241m.\u001b[39mnumber, \u001b[38;5;124m\"\u001b[39m\u001b[38;5;124mdatetime64\u001b[39m\u001b[38;5;124m\"\u001b[39m, \u001b[38;5;124m\"\u001b[39m\u001b[38;5;124mdatetimetz\u001b[39m\u001b[38;5;124m\"\u001b[39m), exclude\u001b[38;5;241m=\u001b[39m\u001b[38;5;124m\"\u001b[39m\u001b[38;5;124mtimedelta\u001b[39m\u001b[38;5;124m\"\u001b[39m\n\u001b[1;32m    495\u001b[0m )\n",
      "File \u001b[0;32m/opt/anaconda3/envs/anadata/lib/python3.9/site-packages/pandas/core/frame.py:3813\u001b[0m, in \u001b[0;36mDataFrame.__getitem__\u001b[0;34m(self, key)\u001b[0m\n\u001b[1;32m   3811\u001b[0m     \u001b[38;5;28;01mif\u001b[39;00m is_iterator(key):\n\u001b[1;32m   3812\u001b[0m         key \u001b[38;5;241m=\u001b[39m \u001b[38;5;28mlist\u001b[39m(key)\n\u001b[0;32m-> 3813\u001b[0m     indexer \u001b[38;5;241m=\u001b[39m \u001b[38;5;28;43mself\u001b[39;49m\u001b[38;5;241;43m.\u001b[39;49m\u001b[43mcolumns\u001b[49m\u001b[38;5;241;43m.\u001b[39;49m\u001b[43m_get_indexer_strict\u001b[49m\u001b[43m(\u001b[49m\u001b[43mkey\u001b[49m\u001b[43m,\u001b[49m\u001b[43m \u001b[49m\u001b[38;5;124;43m\"\u001b[39;49m\u001b[38;5;124;43mcolumns\u001b[39;49m\u001b[38;5;124;43m\"\u001b[39;49m\u001b[43m)\u001b[49m[\u001b[38;5;241m1\u001b[39m]\n\u001b[1;32m   3815\u001b[0m \u001b[38;5;66;03m# take() does not accept boolean indexers\u001b[39;00m\n\u001b[1;32m   3816\u001b[0m \u001b[38;5;28;01mif\u001b[39;00m \u001b[38;5;28mgetattr\u001b[39m(indexer, \u001b[38;5;124m\"\u001b[39m\u001b[38;5;124mdtype\u001b[39m\u001b[38;5;124m\"\u001b[39m, \u001b[38;5;28;01mNone\u001b[39;00m) \u001b[38;5;241m==\u001b[39m \u001b[38;5;28mbool\u001b[39m:\n",
      "File \u001b[0;32m/opt/anaconda3/envs/anadata/lib/python3.9/site-packages/pandas/core/indexes/base.py:6070\u001b[0m, in \u001b[0;36mIndex._get_indexer_strict\u001b[0;34m(self, key, axis_name)\u001b[0m\n\u001b[1;32m   6067\u001b[0m \u001b[38;5;28;01melse\u001b[39;00m:\n\u001b[1;32m   6068\u001b[0m     keyarr, indexer, new_indexer \u001b[38;5;241m=\u001b[39m \u001b[38;5;28mself\u001b[39m\u001b[38;5;241m.\u001b[39m_reindex_non_unique(keyarr)\n\u001b[0;32m-> 6070\u001b[0m \u001b[38;5;28;43mself\u001b[39;49m\u001b[38;5;241;43m.\u001b[39;49m\u001b[43m_raise_if_missing\u001b[49m\u001b[43m(\u001b[49m\u001b[43mkeyarr\u001b[49m\u001b[43m,\u001b[49m\u001b[43m \u001b[49m\u001b[43mindexer\u001b[49m\u001b[43m,\u001b[49m\u001b[43m \u001b[49m\u001b[43maxis_name\u001b[49m\u001b[43m)\u001b[49m\n\u001b[1;32m   6072\u001b[0m keyarr \u001b[38;5;241m=\u001b[39m \u001b[38;5;28mself\u001b[39m\u001b[38;5;241m.\u001b[39mtake(indexer)\n\u001b[1;32m   6073\u001b[0m \u001b[38;5;28;01mif\u001b[39;00m \u001b[38;5;28misinstance\u001b[39m(key, Index):\n\u001b[1;32m   6074\u001b[0m     \u001b[38;5;66;03m# GH 42790 - Preserve name from an Index\u001b[39;00m\n",
      "File \u001b[0;32m/opt/anaconda3/envs/anadata/lib/python3.9/site-packages/pandas/core/indexes/base.py:6130\u001b[0m, in \u001b[0;36mIndex._raise_if_missing\u001b[0;34m(self, key, indexer, axis_name)\u001b[0m\n\u001b[1;32m   6128\u001b[0m     \u001b[38;5;28;01mif\u001b[39;00m use_interval_msg:\n\u001b[1;32m   6129\u001b[0m         key \u001b[38;5;241m=\u001b[39m \u001b[38;5;28mlist\u001b[39m(key)\n\u001b[0;32m-> 6130\u001b[0m     \u001b[38;5;28;01mraise\u001b[39;00m \u001b[38;5;167;01mKeyError\u001b[39;00m(\u001b[38;5;124mf\u001b[39m\u001b[38;5;124m\"\u001b[39m\u001b[38;5;124mNone of [\u001b[39m\u001b[38;5;132;01m{\u001b[39;00mkey\u001b[38;5;132;01m}\u001b[39;00m\u001b[38;5;124m] are in the [\u001b[39m\u001b[38;5;132;01m{\u001b[39;00maxis_name\u001b[38;5;132;01m}\u001b[39;00m\u001b[38;5;124m]\u001b[39m\u001b[38;5;124m\"\u001b[39m)\n\u001b[1;32m   6132\u001b[0m not_found \u001b[38;5;241m=\u001b[39m \u001b[38;5;28mlist\u001b[39m(ensure_index(key)[missing_mask\u001b[38;5;241m.\u001b[39mnonzero()[\u001b[38;5;241m0\u001b[39m]]\u001b[38;5;241m.\u001b[39munique())\n\u001b[1;32m   6133\u001b[0m \u001b[38;5;28;01mraise\u001b[39;00m \u001b[38;5;167;01mKeyError\u001b[39;00m(\u001b[38;5;124mf\u001b[39m\u001b[38;5;124m\"\u001b[39m\u001b[38;5;132;01m{\u001b[39;00mnot_found\u001b[38;5;132;01m}\u001b[39;00m\u001b[38;5;124m not in index\u001b[39m\u001b[38;5;124m\"\u001b[39m)\n",
      "\u001b[0;31mKeyError\u001b[0m: \"None of [Index(['MALAT1', 'SNHG14', 'NRXN1'], dtype='object')] are in the [columns]\""
     ]
    }
   ],
   "source": [
    "# histogram of the expression levels at the highest, 75% percetile, 50% percentile\n",
    "\n",
    "\n",
    "df_cellXGene.hist(column=[\"MALAT1\",\"SNHG14\",\"NRXN1\"], bins=100,layout=(1, 3), figsize=(15, 5))\n",
    "df_cellXGene.hist(column=[\"RPL26\",\"ZBTB43\",\"FGGY\"], bins=100,layout=(1, 3), figsize=(15, 5))\n",
    "df_cellXGene.hist(column=[\"SYT9\",\"SPTBN2\",\"CYC1\"], bins=100,layout=(1, 3), figsize=(15, 5))\n",
    "\n",
    "plt.xlabel('log2 of read counts',ha='center')\n",
    "plt.ylabel('Frequency')\n",
    "\n"
   ]
  },
  {
   "cell_type": "markdown",
   "id": "66be2061-b628-4986-aca3-b347a01304d7",
   "metadata": {},
   "source": [
    "## Replace Zero with Nan, then calculate the mean"
   ]
  },
  {
   "cell_type": "code",
   "execution_count": null,
   "id": "6fe30ad2-bbb1-4fb3-95e8-87498d17ccd3",
   "metadata": {},
   "outputs": [],
   "source": [
    "df_noZero = df_cellXGene.replace(0, np.nan, inplace=False)\n",
    "noZeromean = df_noZero.mean(skipna=True)\n",
    "noZeromean.hist(bins=100)\n",
    "noZeromean_sorted = noZeromean.sort_values(ascending=False)\n",
    "\n",
    "#print(noZeromean_sorted.head(4000)) # 75 precentile expression\n",
    "#print(noZeromean_sorted.head(8000)) # 50 precentile expression\n",
    "#print(noZeromean_sorted.head(12000)) # 25% percentile expression"
   ]
  },
  {
   "cell_type": "raw",
   "id": "10e98c20-582b-4f2d-8bb6-9d2bdc6f8aff",
   "metadata": {},
   "source": [
    "### Highest expression genes\n",
    "MALAT1     13.116612\n",
    "SNHG14     11.796898\n",
    "NRXN1      11.467174\n",
    "\n",
    "### expression level at the 75 percentile \n",
    "ITGB1       4.648014\n",
    "RABGGTA     4.647769\n",
    "SYT17       4.647524\n",
    "\n",
    "### expression level at the 50 percentile \n",
    "ZNF718     4.047926\n",
    "MRPL34     4.047363\n",
    "MT1E       4.047244\n",
    "\n",
    "### expression level at the 25 percentile \n",
    "ZNF689           3.431736\n",
    "MAVS             3.431617\n",
    "ANKRD34C_AS1     3.431595"
   ]
  },
  {
   "cell_type": "code",
   "execution_count": null,
   "id": "1a165a8e-1076-43ea-876f-8823953c6774",
   "metadata": {},
   "outputs": [],
   "source": [
    "# histogram of the expression levels at the highest, 75% percetile, 50% percentile, 25% percentile\n",
    "\n",
    "df_noZero.hist(column=[\"MALAT1\",\"SNHG14\", \"NRXN1\"], bins=100,layout=(1, 3), figsize=(15, 5))\n",
    "df_noZero.hist(column=[\"ITGB1\",\"RABGGTA\", \"SYT17\"], bins=100,layout=(1, 3), figsize=(15, 5))\n",
    "df_noZero.hist(column=[\"ZNF718\",\"MRPL34\", \"MT1E\"], bins=100,layout=(1, 3), figsize=(15, 5))\n",
    "df_noZero.hist(column=[\"ZNF689\",\"MAVS\", \"ANKRD34C_AS1\"], bins=100,layout=(1, 3), figsize=(15, 5))\n",
    "plt.xlabel('log2 of read counts',ha='center')\n",
    "plt.ylabel('Frequency')\n",
    "\n"
   ]
  },
  {
   "cell_type": "code",
   "execution_count": null,
   "id": "0b33f534-8e22-4751-92ed-de04925b8f21",
   "metadata": {},
   "outputs": [],
   "source": [
    "noZero25thpercentile = np.nanpercentile(noZeromean, 25)\n",
    "\n",
    "noZero75thpercentile = np.nanpercentile(noZeromean, 75)\n",
    "print(noZero25thpercentile, noZero75thpercentile)\n",
    "# (df_noZeromean > noZero25thpercentile)\n",
    "# (df_noZeromean < noZero75thpercentile)\n",
    "df_25 = noZeromean[(noZeromean > 3.36)]\n",
    "#print(def_25)\n",
    "#and (df_noZeromean < 4.62)]\n",
    "df_25To75 = df_25[(df_25 < 4.62)]\n",
    "df_25To75.describe()\n",
    "#3.3652830123901367 4.625155448913574\n"
   ]
  },
  {
   "cell_type": "markdown",
   "id": "d53844d4-3e9f-4ffc-a9bd-8814ed8be074",
   "metadata": {},
   "source": [
    "# Transfer cellXGene to binary"
   ]
  },
  {
   "cell_type": "code",
   "execution_count": null,
   "id": "ba7c8d87",
   "metadata": {},
   "outputs": [],
   "source": [
    "\n",
    "\n",
    "adata_new.X[adata_new.X<1] = 0\n",
    "adata_new.X[adata_new.X>=1] = 1\n",
    "adata_new.X=adata_new.X.astype(int)\n",
    "\n"
   ]
  },
  {
   "cell_type": "markdown",
   "id": "64db698f-571a-4112-8e09-4a44e06e6505",
   "metadata": {},
   "source": [
    "# Transfer cellXGene to cellTypeXGene"
   ]
  },
  {
   "cell_type": "code",
   "execution_count": null,
   "id": "2c3c2335",
   "metadata": {},
   "outputs": [],
   "source": [
    "bi_cellXGene = pd.DataFrame(adata_new.X,index = adata_new.obs.index )\n",
    "bi_cellXGene.columns = adata_new.var_names\n",
    "bi_cellXGene[\"cluster\"] = adata_new.obs[\"cluster\"]\n",
    "\n",
    "#print(bi_cellXGene.head())\n",
    "df_cellType=bi_cellXGene.groupby([\"cluster\"]).mean()\n",
    "#print(df_cellType.head())"
   ]
  },
  {
   "cell_type": "markdown",
   "id": "9c5f4ba7-6263-4835-b0a8-851ec5da782c",
   "metadata": {},
   "source": [
    "# Generate the gene list for goEnrichment \n",
    "\n",
    "Generate the gene list for each cluster including the gene expressed in more than 50% cells."
   ]
  },
  {
   "cell_type": "code",
   "execution_count": null,
   "id": "e94a10a1",
   "metadata": {},
   "outputs": [],
   "source": [
    "l=list((adata_new.var).index)\n",
    "for i in range(len(df_cellType.index)):\n",
    "    row0=list(df_cellType.iloc[i]>0.5)\n",
    "    cell_type=df_cellType.index[i]\n",
    "    gene_list=list(compress(l, row0))\n",
    "    print(len(set(gene_list)))\n",
    "    with open(cell_type+\"filtered_list.txt\", \"w\") as f:\n",
    "        f.write(cell_type+\"\\n\")\n",
    "        for item in gene_list:\n",
    "            f.write(item+\"\\n\")"
   ]
  },
  {
   "cell_type": "code",
   "execution_count": null,
   "id": "d90fb669-f0c1-4bf1-9c6a-a188b38b1f6c",
   "metadata": {},
   "outputs": [],
   "source": []
  }
 ],
 "metadata": {
  "kernelspec": {
   "display_name": "Python 3 (ipykernel)",
   "language": "python",
   "name": "python3"
  },
  "language_info": {
   "codemirror_mode": {
    "name": "ipython",
    "version": 3
   },
   "file_extension": ".py",
   "mimetype": "text/x-python",
   "name": "python",
   "nbconvert_exporter": "python",
   "pygments_lexer": "ipython3",
   "version": "3.9.18"
  }
 },
 "nbformat": 4,
 "nbformat_minor": 5
}
